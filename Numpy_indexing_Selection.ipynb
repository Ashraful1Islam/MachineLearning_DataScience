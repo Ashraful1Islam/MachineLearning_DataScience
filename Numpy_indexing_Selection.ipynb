{
  "nbformat": 4,
  "nbformat_minor": 0,
  "metadata": {
    "colab": {
      "provenance": [],
      "authorship_tag": "ABX9TyO0hk0KS9GcVlrRPf+yWIWb",
      "include_colab_link": true
    },
    "kernelspec": {
      "name": "python3",
      "display_name": "Python 3"
    },
    "language_info": {
      "name": "python"
    }
  },
  "cells": [
    {
      "cell_type": "markdown",
      "metadata": {
        "id": "view-in-github",
        "colab_type": "text"
      },
      "source": [
        "<a href=\"https://colab.research.google.com/github/Ashraful1Islam/MachineLearning_DataScience/blob/main/Numpy_indexing_Selection.ipynb\" target=\"_parent\"><img src=\"https://colab.research.google.com/assets/colab-badge.svg\" alt=\"Open In Colab\"/></a>"
      ]
    },
    {
      "cell_type": "code",
      "execution_count": 39,
      "metadata": {
        "id": "tKJegkgQFFlI"
      },
      "outputs": [],
      "source": [
        "import numpy as np\n"
      ]
    },
    {
      "cell_type": "code",
      "source": [
        "# create a 1D array\n",
        "arr=np.arange(0,11)\n",
        "arr"
      ],
      "metadata": {
        "id": "bnr7kDJjFQnT",
        "colab": {
          "base_uri": "https://localhost:8080/"
        },
        "outputId": "a9493470-a8ce-47fd-aa30-d288f50ea30b"
      },
      "execution_count": 40,
      "outputs": [
        {
          "output_type": "execute_result",
          "data": {
            "text/plain": [
              "array([ 0,  1,  2,  3,  4,  5,  6,  7,  8,  9, 10])"
            ]
          },
          "metadata": {},
          "execution_count": 40
        }
      ]
    },
    {
      "cell_type": "code",
      "source": [
        "# accesses the value at index 8\n",
        "arr[8]"
      ],
      "metadata": {
        "id": "l3a40NkLFQp5",
        "colab": {
          "base_uri": "https://localhost:8080/"
        },
        "outputId": "0fcaf011-d129-4491-af59-1254057b45b7"
      },
      "execution_count": 41,
      "outputs": [
        {
          "output_type": "execute_result",
          "data": {
            "text/plain": [
              "np.int64(8)"
            ]
          },
          "metadata": {},
          "execution_count": 41
        }
      ]
    },
    {
      "cell_type": "code",
      "source": [
        "#slice the array from index 1 to 4\n",
        "arr[1:5]"
      ],
      "metadata": {
        "id": "y46FSbIZFQuA",
        "colab": {
          "base_uri": "https://localhost:8080/"
        },
        "outputId": "255147de-9163-4cec-b1e8-c399af0796dd"
      },
      "execution_count": 42,
      "outputs": [
        {
          "output_type": "execute_result",
          "data": {
            "text/plain": [
              "array([1, 2, 3, 4])"
            ]
          },
          "metadata": {},
          "execution_count": 42
        }
      ]
    },
    {
      "cell_type": "code",
      "source": [
        "#slice the array from begining to index 4\n",
        "arr[0:5]"
      ],
      "metadata": {
        "colab": {
          "base_uri": "https://localhost:8080/"
        },
        "id": "CFFnu4Sh-eXg",
        "outputId": "0fce7a1d-4d6b-425d-e111-0710330022f8"
      },
      "execution_count": 43,
      "outputs": [
        {
          "output_type": "execute_result",
          "data": {
            "text/plain": [
              "array([0, 1, 2, 3, 4])"
            ]
          },
          "metadata": {},
          "execution_count": 43
        }
      ]
    },
    {
      "cell_type": "code",
      "source": [
        "# this is same like [0,5]\n",
        "arr[:5]"
      ],
      "metadata": {
        "colab": {
          "base_uri": "https://localhost:8080/"
        },
        "id": "HfuUU7kB-eaJ",
        "outputId": "e5440117-a0f4-48c6-c8f4-dc1cef3a7c1a"
      },
      "execution_count": 44,
      "outputs": [
        {
          "output_type": "execute_result",
          "data": {
            "text/plain": [
              "array([0, 1, 2, 3, 4])"
            ]
          },
          "metadata": {},
          "execution_count": 44
        }
      ]
    },
    {
      "cell_type": "code",
      "source": [
        "#slicing from index 5 to end\n",
        "arr[5:]"
      ],
      "metadata": {
        "colab": {
          "base_uri": "https://localhost:8080/"
        },
        "id": "f9zVR0BI-ecx",
        "outputId": "45ac06ee-03c1-499e-fc7b-8f8621a9d1b8"
      },
      "execution_count": 45,
      "outputs": [
        {
          "output_type": "execute_result",
          "data": {
            "text/plain": [
              "array([ 5,  6,  7,  8,  9, 10])"
            ]
          },
          "metadata": {},
          "execution_count": 45
        }
      ]
    },
    {
      "cell_type": "code",
      "source": [
        "# slice assignment\n",
        "arr[0:5]=100 # this replace the first 5 elements with the value 100\n",
        "arr"
      ],
      "metadata": {
        "colab": {
          "base_uri": "https://localhost:8080/"
        },
        "id": "Fs4PHgaU-efn",
        "outputId": "392ed2a7-8bec-4722-b20b-639e16c27e16"
      },
      "execution_count": 46,
      "outputs": [
        {
          "output_type": "execute_result",
          "data": {
            "text/plain": [
              "array([100, 100, 100, 100, 100,   5,   6,   7,   8,   9,  10])"
            ]
          },
          "metadata": {},
          "execution_count": 46
        }
      ]
    },
    {
      "cell_type": "code",
      "source": [
        "arr=np.arange(0,11)#Reinitialize\n",
        "arr"
      ],
      "metadata": {
        "colab": {
          "base_uri": "https://localhost:8080/"
        },
        "id": "iRSjXV2T-eh7",
        "outputId": "a0264656-bff6-40a3-8bad-6cfdcf4158da"
      },
      "execution_count": 47,
      "outputs": [
        {
          "output_type": "execute_result",
          "data": {
            "text/plain": [
              "array([ 0,  1,  2,  3,  4,  5,  6,  7,  8,  9, 10])"
            ]
          },
          "metadata": {},
          "execution_count": 47
        }
      ]
    },
    {
      "cell_type": "code",
      "source": [
        "#Creates a view (not a copy) of the first 6 elements\n",
        "slice_of_arr=arr[0:6]\n",
        "slice_of_arr"
      ],
      "metadata": {
        "colab": {
          "base_uri": "https://localhost:8080/"
        },
        "id": "24K5zzXf-ekl",
        "outputId": "b6b0bc93-0184-42c9-a075-8cc2a185bf86"
      },
      "execution_count": 48,
      "outputs": [
        {
          "output_type": "execute_result",
          "data": {
            "text/plain": [
              "array([0, 1, 2, 3, 4, 5])"
            ]
          },
          "metadata": {},
          "execution_count": 48
        }
      ]
    },
    {
      "cell_type": "code",
      "source": [
        "#Changes all values in the view to 99. Since this is a view, it also updates the original arr.\n",
        "\n",
        "slice_of_arr[:]=99\n",
        "slice_of_arr"
      ],
      "metadata": {
        "colab": {
          "base_uri": "https://localhost:8080/"
        },
        "id": "_uFgcyXU_L2j",
        "outputId": "c2fb18f6-c559-4b4a-cf12-39ebff289c68"
      },
      "execution_count": 49,
      "outputs": [
        {
          "output_type": "execute_result",
          "data": {
            "text/plain": [
              "array([99, 99, 99, 99, 99, 99])"
            ]
          },
          "metadata": {},
          "execution_count": 49
        }
      ]
    },
    {
      "cell_type": "code",
      "source": [
        "#Creates a true copy of arr. Changes to arr_copy will NOT affect the original.\n",
        "arr_copy=arr.copy()\n",
        "arr"
      ],
      "metadata": {
        "colab": {
          "base_uri": "https://localhost:8080/"
        },
        "id": "BrFQUz3Q_L54",
        "outputId": "422c96a5-7719-4743-fb31-5a0bcf4a7ed5"
      },
      "execution_count": 50,
      "outputs": [
        {
          "output_type": "execute_result",
          "data": {
            "text/plain": [
              "array([99, 99, 99, 99, 99, 99,  6,  7,  8,  9, 10])"
            ]
          },
          "metadata": {},
          "execution_count": 50
        }
      ]
    },
    {
      "cell_type": "code",
      "source": [
        "#Sets all values in the copy to 100. Original arr remains unchanged.\n",
        "arr_copy[:]=100\n",
        "arr_copy"
      ],
      "metadata": {
        "colab": {
          "base_uri": "https://localhost:8080/"
        },
        "id": "VTEo1k1l-enE",
        "outputId": "0481a29f-731e-4283-b784-0b2f1699f377"
      },
      "execution_count": 51,
      "outputs": [
        {
          "output_type": "execute_result",
          "data": {
            "text/plain": [
              "array([100, 100, 100, 100, 100, 100, 100, 100, 100, 100, 100])"
            ]
          },
          "metadata": {},
          "execution_count": 51
        }
      ]
    },
    {
      "cell_type": "code",
      "source": [
        "arr"
      ],
      "metadata": {
        "colab": {
          "base_uri": "https://localhost:8080/"
        },
        "id": "n8ophe65-eqZ",
        "outputId": "ac17cb67-97c3-4c5b-a8bc-ff9f5774f66d"
      },
      "execution_count": 52,
      "outputs": [
        {
          "output_type": "execute_result",
          "data": {
            "text/plain": [
              "array([99, 99, 99, 99, 99, 99,  6,  7,  8,  9, 10])"
            ]
          },
          "metadata": {},
          "execution_count": 52
        }
      ]
    },
    {
      "cell_type": "markdown",
      "source": [
        "**2D array Indexing**\n"
      ],
      "metadata": {
        "id": "vO47DJ9rGTGy"
      }
    },
    {
      "cell_type": "code",
      "source": [
        "# Creates a 2D NumPy array (3x3 matrix).\n",
        "arr_2d=np.array([[5,10,15],[20,25,30],[35,40,45]])"
      ],
      "metadata": {
        "id": "RXp5Zi79FQxH"
      },
      "execution_count": 53,
      "outputs": []
    },
    {
      "cell_type": "code",
      "source": [
        "arr_2d"
      ],
      "metadata": {
        "id": "ooaxR00CFQzg",
        "colab": {
          "base_uri": "https://localhost:8080/"
        },
        "outputId": "8555689a-f46f-4a15-aa22-f3fee41c01f8"
      },
      "execution_count": 54,
      "outputs": [
        {
          "output_type": "execute_result",
          "data": {
            "text/plain": [
              "array([[ 5, 10, 15],\n",
              "       [20, 25, 30],\n",
              "       [35, 40, 45]])"
            ]
          },
          "metadata": {},
          "execution_count": 54
        }
      ]
    },
    {
      "cell_type": "code",
      "source": [
        "# Accesses row 1, column 1 (25).we could also write arr_2d[1, 1].\n",
        "arr_2d[1][1]"
      ],
      "metadata": {
        "id": "2eyL71gHFQ12",
        "colab": {
          "base_uri": "https://localhost:8080/"
        },
        "outputId": "c528b087-4b02-47b9-adc6-19207a166092"
      },
      "execution_count": 55,
      "outputs": [
        {
          "output_type": "execute_result",
          "data": {
            "text/plain": [
              "np.int64(25)"
            ]
          },
          "metadata": {},
          "execution_count": 55
        }
      ]
    },
    {
      "cell_type": "code",
      "source": [
        "#Slice first 2 rows (row 0 and 1), and columns from index 1 to the end. Result:\n",
        "arr_2d[:2,1:]"
      ],
      "metadata": {
        "id": "Soc-xgknFQ4j",
        "colab": {
          "base_uri": "https://localhost:8080/"
        },
        "outputId": "924c08c7-27a1-4c77-b379-7debfa538783"
      },
      "execution_count": 56,
      "outputs": [
        {
          "output_type": "execute_result",
          "data": {
            "text/plain": [
              "array([[10, 15],\n",
              "       [25, 30]])"
            ]
          },
          "metadata": {},
          "execution_count": 56
        }
      ]
    },
    {
      "cell_type": "code",
      "source": [
        "#Takes the first 2 rows:\n",
        "arr_2d[:2]"
      ],
      "metadata": {
        "id": "tg8Sgy6MFQ60",
        "colab": {
          "base_uri": "https://localhost:8080/"
        },
        "outputId": "0ae6ab74-640a-4aef-bfae-bb1e438b2b48"
      },
      "execution_count": 57,
      "outputs": [
        {
          "output_type": "execute_result",
          "data": {
            "text/plain": [
              "array([[ 5, 10, 15],\n",
              "       [20, 25, 30]])"
            ]
          },
          "metadata": {},
          "execution_count": 57
        }
      ]
    },
    {
      "cell_type": "markdown",
      "source": [
        "BOOLEAN INDEXING"
      ],
      "metadata": {
        "id": "I2zyKynaG2EW"
      }
    },
    {
      "cell_type": "code",
      "source": [
        "arr=np.arange(1,11)\n",
        "arr"
      ],
      "metadata": {
        "id": "8T7bNL4OFQ-M",
        "colab": {
          "base_uri": "https://localhost:8080/"
        },
        "outputId": "533f870c-9faf-4ef0-bb1c-a97cc2085d11"
      },
      "execution_count": 58,
      "outputs": [
        {
          "output_type": "execute_result",
          "data": {
            "text/plain": [
              "array([ 1,  2,  3,  4,  5,  6,  7,  8,  9, 10])"
            ]
          },
          "metadata": {},
          "execution_count": 58
        }
      ]
    },
    {
      "cell_type": "code",
      "source": [
        "#Creates a boolean array where each position is True if the value is greater than 5.\n",
        "bool_arr=arr > 5\n",
        "bool_arr"
      ],
      "metadata": {
        "colab": {
          "base_uri": "https://localhost:8080/"
        },
        "id": "ftnQiG5b8lzx",
        "outputId": "5eefdbd2-203b-421e-ba7b-57e898625fee"
      },
      "execution_count": 59,
      "outputs": [
        {
          "output_type": "execute_result",
          "data": {
            "text/plain": [
              "array([False, False, False, False, False,  True,  True,  True,  True,\n",
              "        True])"
            ]
          },
          "metadata": {},
          "execution_count": 59
        }
      ]
    },
    {
      "cell_type": "code",
      "source": [
        "# Filters out only the elements where the boolean array is True: [6 7 8 9 10]\n",
        "arr[bool_arr]"
      ],
      "metadata": {
        "colab": {
          "base_uri": "https://localhost:8080/"
        },
        "id": "ppVUzEM_8l2A",
        "outputId": "a999ae78-8813-4a97-ac9d-396770e5123a"
      },
      "execution_count": 60,
      "outputs": [
        {
          "output_type": "execute_result",
          "data": {
            "text/plain": [
              "array([ 6,  7,  8,  9, 10])"
            ]
          },
          "metadata": {},
          "execution_count": 60
        }
      ]
    },
    {
      "cell_type": "code",
      "source": [
        " #Same as above, but written in one line.\n",
        "arr[arr>5]"
      ],
      "metadata": {
        "colab": {
          "base_uri": "https://localhost:8080/"
        },
        "id": "EllwT3Hm8l7-",
        "outputId": "4a708120-77e5-4ef9-c238-e4407a62cfb0"
      },
      "execution_count": 61,
      "outputs": [
        {
          "output_type": "execute_result",
          "data": {
            "text/plain": [
              "array([ 6,  7,  8,  9, 10])"
            ]
          },
          "metadata": {},
          "execution_count": 61
        }
      ]
    },
    {
      "cell_type": "code",
      "source": [
        "# Filters for elements less than 3: [1 2]\n",
        "arr[arr<3]"
      ],
      "metadata": {
        "colab": {
          "base_uri": "https://localhost:8080/"
        },
        "id": "nuXjShiV8mDz",
        "outputId": "25b26451-b423-49d1-8eb8-6e3cdde464e2"
      },
      "execution_count": 62,
      "outputs": [
        {
          "output_type": "execute_result",
          "data": {
            "text/plain": [
              "array([1, 2])"
            ]
          },
          "metadata": {},
          "execution_count": 62
        }
      ]
    },
    {
      "cell_type": "markdown",
      "source": [
        "2D ARRAY SLICE EXPLANATION"
      ],
      "metadata": {
        "id": "8gWf_tLcHK6g"
      }
    },
    {
      "cell_type": "code",
      "source": [
        "# Creates a 1D array from 0 to 49, and reshapes it into a 5x10 matrix.\n",
        "arr_2d=np.arange(50).reshape(5,10)\n",
        "arr_2d"
      ],
      "metadata": {
        "colab": {
          "base_uri": "https://localhost:8080/"
        },
        "id": "ITenclrH9v3J",
        "outputId": "8be46bc4-6a91-452b-a27d-54c8d4e6c3d1"
      },
      "execution_count": 63,
      "outputs": [
        {
          "output_type": "execute_result",
          "data": {
            "text/plain": [
              "array([[ 0,  1,  2,  3,  4,  5,  6,  7,  8,  9],\n",
              "       [10, 11, 12, 13, 14, 15, 16, 17, 18, 19],\n",
              "       [20, 21, 22, 23, 24, 25, 26, 27, 28, 29],\n",
              "       [30, 31, 32, 33, 34, 35, 36, 37, 38, 39],\n",
              "       [40, 41, 42, 43, 44, 45, 46, 47, 48, 49]])"
            ]
          },
          "metadata": {},
          "execution_count": 63
        }
      ]
    },
    {
      "cell_type": "code",
      "source": [
        "#Slices from row 1 to row 2 (remember: end is exclusive), so we get rows 1 and 2:\n",
        "arr_2d[1:3,]"
      ],
      "metadata": {
        "colab": {
          "base_uri": "https://localhost:8080/"
        },
        "id": "zFMBiQCN9v5Z",
        "outputId": "06799ba0-56d3-4cdd-e870-939d311dfbc8"
      },
      "execution_count": 64,
      "outputs": [
        {
          "output_type": "execute_result",
          "data": {
            "text/plain": [
              "array([[10, 11, 12, 13, 14, 15, 16, 17, 18, 19],\n",
              "       [20, 21, 22, 23, 24, 25, 26, 27, 28, 29]])"
            ]
          },
          "metadata": {},
          "execution_count": 64
        }
      ]
    },
    {
      "cell_type": "code",
      "source": [
        "arr_2d[1:3]"
      ],
      "metadata": {
        "colab": {
          "base_uri": "https://localhost:8080/"
        },
        "id": "jh0q17nY9v72",
        "outputId": "66e455be-af03-4861-f0b7-1c97e63be5b6"
      },
      "execution_count": 65,
      "outputs": [
        {
          "output_type": "execute_result",
          "data": {
            "text/plain": [
              "array([[10, 11, 12, 13, 14, 15, 16, 17, 18, 19],\n",
              "       [20, 21, 22, 23, 24, 25, 26, 27, 28, 29]])"
            ]
          },
          "metadata": {},
          "execution_count": 65
        }
      ]
    }
  ]
}