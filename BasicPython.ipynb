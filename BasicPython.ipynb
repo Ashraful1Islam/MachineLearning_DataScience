{
  "nbformat": 4,
  "nbformat_minor": 0,
  "metadata": {
    "colab": {
      "provenance": [],
      "authorship_tag": "ABX9TyOcodnwf8YBUKF/xy4M3Sgz",
      "include_colab_link": true
    },
    "kernelspec": {
      "name": "python3",
      "display_name": "Python 3"
    },
    "language_info": {
      "name": "python"
    }
  },
  "cells": [
    {
      "cell_type": "markdown",
      "metadata": {
        "id": "view-in-github",
        "colab_type": "text"
      },
      "source": [
        "<a href=\"https://colab.research.google.com/github/Ashraful1Islam/MachineLearning_DataScience/blob/main/BasicPython.ipynb\" target=\"_parent\"><img src=\"https://colab.research.google.com/assets/colab-badge.svg\" alt=\"Open In Colab\"/></a>"
      ]
    },
    {
      "cell_type": "code",
      "execution_count": null,
      "metadata": {
        "colab": {
          "base_uri": "https://localhost:8080/"
        },
        "id": "QYBe1vJUB5Od",
        "outputId": "27a47c48-fa67-447d-b395-d5967a5856e3"
      },
      "outputs": [
        {
          "output_type": "execute_result",
          "data": {
            "text/plain": [
              "2"
            ]
          },
          "metadata": {},
          "execution_count": 26
        }
      ],
      "source": [
        "1+1"
      ]
    },
    {
      "cell_type": "code",
      "source": [
        "1.0"
      ],
      "metadata": {
        "colab": {
          "base_uri": "https://localhost:8080/"
        },
        "id": "RHt2muK5CPVL",
        "outputId": "ece23b5c-6418-43a2-feb3-a9243c55579d"
      },
      "execution_count": null,
      "outputs": [
        {
          "output_type": "execute_result",
          "data": {
            "text/plain": [
              "1.0"
            ]
          },
          "metadata": {},
          "execution_count": 27
        }
      ]
    },
    {
      "cell_type": "code",
      "source": [],
      "metadata": {
        "id": "piCyLUQIfLGZ"
      },
      "execution_count": null,
      "outputs": []
    },
    {
      "cell_type": "code",
      "source": [
        "1"
      ],
      "metadata": {
        "colab": {
          "base_uri": "https://localhost:8080/"
        },
        "id": "5ONbyZ3SCP9S",
        "outputId": "0e3ed8b1-8635-4d23-cddd-ef25497294d6"
      },
      "execution_count": null,
      "outputs": [
        {
          "output_type": "execute_result",
          "data": {
            "text/plain": [
              "1"
            ]
          },
          "metadata": {},
          "execution_count": 28
        }
      ]
    },
    {
      "cell_type": "code",
      "source": [
        "1*3"
      ],
      "metadata": {
        "colab": {
          "base_uri": "https://localhost:8080/"
        },
        "id": "qjaz2oVlCQiC",
        "outputId": "3dd30502-8e69-46aa-a01e-b6545aea1093"
      },
      "execution_count": null,
      "outputs": [
        {
          "output_type": "execute_result",
          "data": {
            "text/plain": [
              "3"
            ]
          },
          "metadata": {},
          "execution_count": 29
        }
      ]
    },
    {
      "cell_type": "code",
      "source": [
        "x = 1/2.0"
      ],
      "metadata": {
        "id": "g9Cg9x4lCifO"
      },
      "execution_count": null,
      "outputs": []
    },
    {
      "cell_type": "code",
      "source": [
        "print(x)\n"
      ],
      "metadata": {
        "colab": {
          "base_uri": "https://localhost:8080/"
        },
        "id": "I8zqT62lDxKO",
        "outputId": "4c35c191-f751-4ef1-f956-52aa55f84bdf"
      },
      "execution_count": null,
      "outputs": [
        {
          "output_type": "stream",
          "name": "stdout",
          "text": [
            "0.5\n"
          ]
        }
      ]
    },
    {
      "cell_type": "code",
      "source": [
        "#indexing string\n",
        "string='Hello'\n",
        "print(string[0])\n",
        "string1='abcdefghijk'\n",
        "print(string1[0])\n",
        "print(string1[0:])\n",
        "print(string1[0:3])\n",
        "print(string1[3:6])\n",
        "\n",
        "\n"
      ],
      "metadata": {
        "colab": {
          "base_uri": "https://localhost:8080/"
        },
        "id": "YPQId-ClR64J",
        "outputId": "5c5fba75-1a3a-40a4-b4d4-1237d643f357"
      },
      "execution_count": null,
      "outputs": [
        {
          "output_type": "stream",
          "name": "stdout",
          "text": [
            "H\n",
            "a\n",
            "abcdefghijk\n",
            "abc\n",
            "def\n"
          ]
        }
      ]
    },
    {
      "cell_type": "code",
      "source": [
        "#list and slicing\n",
        "#we can assign like this [1,2,3]\n",
        "# also like this ['a','b','c']\n",
        "my_list=['a','b','c']\n",
        "my_list.append('d')\n",
        "print(my_list)\n",
        "my_list[0]\n",
        "my_list[1:3]\n",
        "my_list[0]='NEW'\n",
        "print(my_list)\n",
        "\n",
        "# nested list\n",
        "nest=[1,2,[3,4]]\n",
        "print(nest)\n",
        "print(nest[2])\n",
        "print(nest[2][1])\n"
      ],
      "metadata": {
        "colab": {
          "base_uri": "https://localhost:8080/"
        },
        "id": "FkSCsqb3TMwv",
        "outputId": "18e142a9-19f7-4e15-f504-502f7da5c540"
      },
      "execution_count": null,
      "outputs": [
        {
          "output_type": "stream",
          "name": "stdout",
          "text": [
            "['a', 'b', 'c', 'd']\n",
            "['NEW', 'b', 'c', 'd']\n",
            "[1, 2, [3, 4]]\n",
            "[3, 4]\n",
            "4\n"
          ]
        }
      ]
    },
    {
      "cell_type": "code",
      "source": [
        "#dictionary\n",
        "d={'key1':'value','key2':123}\n",
        "print(d['key1'])\n",
        "print(d['key2'])\n"
      ],
      "metadata": {
        "colab": {
          "base_uri": "https://localhost:8080/"
        },
        "id": "mtYREg4XZo-3",
        "outputId": "8fe73c89-6374-495c-8e6a-4fa7fd714fc7"
      },
      "execution_count": null,
      "outputs": [
        {
          "output_type": "stream",
          "name": "stdout",
          "text": [
            "value\n",
            "123\n"
          ]
        }
      ]
    },
    {
      "cell_type": "code",
      "source": [
        "d={'k1':[1,2,3]}\n",
        "my_list=d['k1']\n",
        "print(my_list[0])\n",
        "d['k1'][0]\n",
        "# set(Collection of unique element)\n",
        "s=set([1,1,1,2,2,3,3,3])\n",
        "s.add(5)\n",
        "print(s)\n"
      ],
      "metadata": {
        "colab": {
          "base_uri": "https://localhost:8080/"
        },
        "id": "GyxpYXQxau50",
        "outputId": "02399d6b-3e2a-42a0-9da8-c347b97db35a"
      },
      "execution_count": null,
      "outputs": [
        {
          "output_type": "stream",
          "name": "stdout",
          "text": [
            "1\n",
            "{1, 2, 3, 5}\n"
          ]
        }
      ]
    },
    {
      "cell_type": "code",
      "source": [
        "#if/else\n",
        "if 1<2:\n",
        "    print('yep!')\n",
        "if 1==2:\n",
        "    print('first')\n",
        "else:\n",
        "    print('last')"
      ],
      "metadata": {
        "colab": {
          "base_uri": "https://localhost:8080/"
        },
        "id": "QPaYsjufcnf8",
        "outputId": "889cc8d4-a149-4c6a-d94f-8b5f84f721f2"
      },
      "execution_count": null,
      "outputs": [
        {
          "output_type": "stream",
          "name": "stdout",
          "text": [
            "yep!\n",
            "last\n"
          ]
        }
      ]
    },
    {
      "cell_type": "code",
      "source": [
        "#Loop,Function\n",
        "seq=[1,2,3,4,5]\n",
        "for num in seq:\n",
        "  print('hello')"
      ],
      "metadata": {
        "colab": {
          "base_uri": "https://localhost:8080/"
        },
        "id": "A3GmkqHm3rxi",
        "outputId": "3922c9eb-8811-4e8b-eab3-233f4f6471c3"
      },
      "execution_count": null,
      "outputs": [
        {
          "output_type": "stream",
          "name": "stdout",
          "text": [
            "hello\n",
            "hello\n",
            "hello\n",
            "hello\n",
            "hello\n"
          ]
        }
      ]
    },
    {
      "cell_type": "code",
      "source": [
        "i=1\n",
        "while i<5:\n",
        "  print('i is:{}'.format(i))\n",
        "  i=i+1"
      ],
      "metadata": {
        "colab": {
          "base_uri": "https://localhost:8080/"
        },
        "id": "Nd6jmn0A4dM6",
        "outputId": "33d46f69-218b-4148-e4bd-73366d1011ce"
      },
      "execution_count": null,
      "outputs": [
        {
          "output_type": "stream",
          "name": "stdout",
          "text": [
            "i is:1\n",
            "i is:2\n",
            "i is:3\n",
            "i is:4\n"
          ]
        }
      ]
    },
    {
      "cell_type": "code",
      "source": [
        "for x in seq:\n",
        "  print(x)\n",
        "\n"
      ],
      "metadata": {
        "colab": {
          "base_uri": "https://localhost:8080/"
        },
        "id": "OF-rUEkK47Bg",
        "outputId": "2074197e-183e-4f52-f1fb-fa5296922b51"
      },
      "execution_count": null,
      "outputs": [
        {
          "output_type": "stream",
          "name": "stdout",
          "text": [
            "1\n",
            "2\n",
            "3\n",
            "4\n",
            "5\n"
          ]
        }
      ]
    },
    {
      "cell_type": "code",
      "source": [
        "for x in range(0,5):\n",
        "      print(x)\n",
        "\n",
        "list(range(5))"
      ],
      "metadata": {
        "colab": {
          "base_uri": "https://localhost:8080/"
        },
        "id": "t5m49c405FAR",
        "outputId": "52c72317-acb9-4550-8387-db3905ce9c9b"
      },
      "execution_count": null,
      "outputs": [
        {
          "output_type": "stream",
          "name": "stdout",
          "text": [
            "0\n",
            "1\n",
            "2\n",
            "3\n",
            "4\n"
          ]
        },
        {
          "output_type": "execute_result",
          "data": {
            "text/plain": [
              "[0, 1, 2, 3, 4]"
            ]
          },
          "metadata": {},
          "execution_count": 11
        }
      ]
    },
    {
      "cell_type": "code",
      "source": [
        "x=[1,2,3,4]\n",
        "out=[]\n",
        "for item in x:\n",
        "  out.append(item**2)\n",
        "print(out)"
      ],
      "metadata": {
        "colab": {
          "base_uri": "https://localhost:8080/"
        },
        "id": "AyHzfq1u5_5M",
        "outputId": "dcf7a8f1-812e-4cd5-f0a0-f2bf35c3e529"
      },
      "execution_count": null,
      "outputs": [
        {
          "output_type": "stream",
          "name": "stdout",
          "text": [
            "[1, 4, 9, 16]\n"
          ]
        }
      ]
    },
    {
      "cell_type": "code",
      "source": [
        "#function\n",
        "def my_func(param1):\n",
        "  print(param1)\n"
      ],
      "metadata": {
        "id": "LysXx4g66dKv"
      },
      "execution_count": null,
      "outputs": []
    },
    {
      "cell_type": "code",
      "source": [
        "my_func('hello')"
      ],
      "metadata": {
        "colab": {
          "base_uri": "https://localhost:8080/"
        },
        "id": "ieJYnNOp6zmB",
        "outputId": "2653b723-7e5a-450f-f1e3-c8f41b68bcb7"
      },
      "execution_count": null,
      "outputs": [
        {
          "output_type": "stream",
          "name": "stdout",
          "text": [
            "hello\n"
          ]
        }
      ]
    },
    {
      "cell_type": "code",
      "source": [
        "def square(num):\n",
        "  \"\"\"\n",
        "  This is a docstring.\n",
        "  Can go multiple lines.\n",
        "  This function squares a number.\n",
        "  \"\"\"\n",
        "  return(num**2)\n",
        "\n",
        "output=square(2)\n",
        "print(output)"
      ],
      "metadata": {
        "colab": {
          "base_uri": "https://localhost:8080/"
        },
        "id": "2lwGtFoo7f1s",
        "outputId": "077abe97-8e12-4907-a8da-3efbb20e0253"
      },
      "execution_count": null,
      "outputs": [
        {
          "output_type": "stream",
          "name": "stdout",
          "text": [
            "4\n"
          ]
        }
      ]
    },
    {
      "cell_type": "code",
      "source": [
        "def times2(var):\n",
        "  return var*2"
      ],
      "metadata": {
        "id": "NOfufZ-1c-JZ"
      },
      "execution_count": null,
      "outputs": []
    },
    {
      "cell_type": "markdown",
      "source": [],
      "metadata": {
        "id": "A380FqZpc-Pv"
      }
    },
    {
      "cell_type": "code",
      "source": [
        "times2(5)"
      ],
      "metadata": {
        "colab": {
          "base_uri": "https://localhost:8080/"
        },
        "id": "l3DBzrLEc-xU",
        "outputId": "8ea232f0-044b-49c3-bb48-81c3804a702f"
      },
      "execution_count": null,
      "outputs": [
        {
          "output_type": "execute_result",
          "data": {
            "text/plain": [
              "10"
            ]
          },
          "metadata": {},
          "execution_count": 2
        }
      ]
    },
    {
      "cell_type": "code",
      "source": [
        "#map\n",
        "seq=[1,2,3,4,5]\n",
        "list(map(times2,seq))"
      ],
      "metadata": {
        "colab": {
          "base_uri": "https://localhost:8080/"
        },
        "id": "PKdQiNLpdddQ",
        "outputId": "dd1fe169-5bfc-4902-9749-259b747e0f3f"
      },
      "execution_count": null,
      "outputs": [
        {
          "output_type": "execute_result",
          "data": {
            "text/plain": [
              "[2, 4, 6, 8, 10]"
            ]
          },
          "metadata": {},
          "execution_count": 4
        }
      ]
    },
    {
      "cell_type": "code",
      "source": [
        "def myfunc(a, b):\n",
        "    return a + b\n",
        "\n",
        "x = map(myfunc, ('apple', 'banana', 'cherry'), ('orange', 'lemon', 'pineapple'))\n",
        "\n",
        "print(x)  # This prints the map object (not the actual result)\n",
        "\n",
        "print(list(x))  # This converts the map object to a list and prints the result\n",
        "\n",
        "def square(a):\n",
        "  return a**2\n",
        "\n",
        "result=[1,2,3,4,5]\n",
        "output=map(square,result)\n",
        "print(list(output))\n",
        "\n",
        "#real life example of map\n",
        "def add_tax(price):\n",
        "    return price * 1.10  # 10% tax\n",
        "\n",
        "prices = [100, 250, 70, 30]\n",
        "\n",
        "final_prices = map(add_tax, prices)\n",
        "\n",
        "print(list(final_prices))\n",
        "\n",
        "# lambda use kora jai easily in map\n",
        "t=lambda var1:var1*5\n",
        "print(t(5))\n",
        "\n",
        "list(map(lambda num:num*3,seq))#no need define to whole function\n"
      ],
      "metadata": {
        "colab": {
          "base_uri": "https://localhost:8080/"
        },
        "id": "-328hKQyfNVW",
        "outputId": "11f82a05-96a7-4a14-b10d-e014737b155b"
      },
      "execution_count": null,
      "outputs": [
        {
          "output_type": "stream",
          "name": "stdout",
          "text": [
            "<map object at 0x79bfaa5fb820>\n",
            "['appleorange', 'bananalemon', 'cherrypineapple']\n",
            "[1, 4, 9, 16, 25]\n",
            "[110.00000000000001, 275.0, 77.0, 33.0]\n",
            "25\n"
          ]
        },
        {
          "output_type": "execute_result",
          "data": {
            "text/plain": [
              "[3, 6, 9, 12, 15]"
            ]
          },
          "metadata": {},
          "execution_count": 20
        }
      ]
    },
    {
      "cell_type": "code",
      "source": [
        "#Filter Function\n",
        "def is_even(n):\n",
        "    return n % 2 == 0\n",
        "\n",
        "numbers = [1, 2, 3, 4, 5, 6]\n",
        "\n",
        "result = filter(is_even, numbers)\n",
        "\n",
        "print(list(result))\n",
        "\n",
        "\n",
        "seq=[1,2,3,4,5]\n",
        "list(filter(lambda num:num%2==0,seq))"
      ],
      "metadata": {
        "colab": {
          "base_uri": "https://localhost:8080/"
        },
        "id": "V-vwXf1got-o",
        "outputId": "cf12ddd6-e41c-4a6e-f5a7-099bed50fef1"
      },
      "execution_count": null,
      "outputs": [
        {
          "output_type": "stream",
          "name": "stdout",
          "text": [
            "[2, 4, 6]\n"
          ]
        },
        {
          "output_type": "execute_result",
          "data": {
            "text/plain": [
              "[2, 4]"
            ]
          },
          "metadata": {},
          "execution_count": 22
        }
      ]
    },
    {
      "cell_type": "code",
      "source": [
        " #Methods\n"
      ],
      "metadata": {
        "id": "VXTR65khm03u"
      },
      "execution_count": null,
      "outputs": []
    },
    {
      "cell_type": "markdown",
      "source": [],
      "metadata": {
        "id": "YuYb2z4tm0-N"
      }
    }
  ]
}