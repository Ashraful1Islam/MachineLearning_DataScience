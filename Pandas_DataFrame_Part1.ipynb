{
  "nbformat": 4,
  "nbformat_minor": 0,
  "metadata": {
    "colab": {
      "provenance": [],
      "authorship_tag": "ABX9TyMb3FYQQWBc892F3A80AQCt",
      "include_colab_link": true
    },
    "kernelspec": {
      "name": "python3",
      "display_name": "Python 3"
    },
    "language_info": {
      "name": "python"
    }
  },
  "cells": [
    {
      "cell_type": "markdown",
      "metadata": {
        "id": "view-in-github",
        "colab_type": "text"
      },
      "source": [
        "<a href=\"https://colab.research.google.com/github/Ashraful1Islam/MachineLearning_DataScience/blob/main/Pandas_DataFrame_Part1.ipynb\" target=\"_parent\"><img src=\"https://colab.research.google.com/assets/colab-badge.svg\" alt=\"Open In Colab\"/></a>"
      ]
    },
    {
      "cell_type": "code",
      "source": [
        "import numpy as np\n",
        "import pandas as pd\n",
        "from numpy.random import randn ## For generating random numbers from a normal distribution"
      ],
      "metadata": {
        "id": "vFCZo9DHojI_"
      },
      "execution_count": 1,
      "outputs": []
    },
    {
      "cell_type": "code",
      "source": [
        "# Set a random seed to ensure reproducible results\n",
        "# This means every time we run the code, we'll get the same random numbers\n",
        "np.random.seed(101)"
      ],
      "metadata": {
        "id": "iTICHX8iojLU"
      },
      "execution_count": 2,
      "outputs": []
    },
    {
      "cell_type": "code",
      "source": [
        "# Create a DataFrame with 5 rows and 4 columns filled with random numbers\n",
        "df=pd.DataFrame(randn(5,4),['A','B','C','D','E'],['W','X','Y','Z'])"
      ],
      "metadata": {
        "id": "ImGRq0aiojNy"
      },
      "execution_count": 3,
      "outputs": []
    },
    {
      "cell_type": "code",
      "source": [
        "# Display the DataFrame\n",
        "df"
      ],
      "metadata": {
        "id": "ZJNG3WYIojQT"
      },
      "execution_count": null,
      "outputs": []
    },
    {
      "cell_type": "code",
      "source": [
        "# Select column 'W' from the DataFrame\n",
        "df['W']"
      ],
      "metadata": {
        "id": "LSMZ41tVojS4"
      },
      "execution_count": null,
      "outputs": []
    },
    {
      "cell_type": "code",
      "source": [
        "# Check the data type of column 'W' (it's a Series)\n",
        "type(df['W'])"
      ],
      "metadata": {
        "id": "LB_pj7bTojUx"
      },
      "execution_count": null,
      "outputs": []
    },
    {
      "cell_type": "code",
      "source": [
        "# Check the data type of the full DataFrame\n",
        "type(df)"
      ],
      "metadata": {
        "id": "oleJncCyojXZ"
      },
      "execution_count": null,
      "outputs": []
    },
    {
      "cell_type": "code",
      "source": [
        "# Select multiple columns: 'W' and 'Z'\n",
        "df[['W','Z']]"
      ],
      "metadata": {
        "id": "7nODtR3EojZ4"
      },
      "execution_count": null,
      "outputs": []
    },
    {
      "cell_type": "code",
      "source": [
        "# Create a new column called 'new' by adding columns 'W' and 'Y'\n",
        "df['new']=df['W']+df['Y']\n",
        "df"
      ],
      "metadata": {
        "id": "IV3per0xojcV"
      },
      "execution_count": null,
      "outputs": []
    },
    {
      "cell_type": "code",
      "source": [
        "# Drop the 'new' column (axis=1 means column)\n",
        "df.drop('new',axis=1)\n"
      ],
      "metadata": {
        "id": "Xqof56Qnoje8"
      },
      "execution_count": null,
      "outputs": []
    },
    {
      "cell_type": "code",
      "source": [
        "# Drop row 'E' (axis=0 means row)\n",
        "df.drop('E',axis=0)"
      ],
      "metadata": {
        "id": "gQWOGpGYojhh"
      },
      "execution_count": null,
      "outputs": []
    },
    {
      "cell_type": "code",
      "source": [
        "# Get the shape of the DataFrame (rows, columns)\n",
        "df.shape"
      ],
      "metadata": {
        "id": "o_3a84HyojkJ",
        "colab": {
          "base_uri": "https://localhost:8080/"
        },
        "outputId": "74610abb-1919-44a9-a206-dc381fd9a80f"
      },
      "execution_count": 14,
      "outputs": [
        {
          "output_type": "execute_result",
          "data": {
            "text/plain": [
              "(5, 5)"
            ]
          },
          "metadata": {},
          "execution_count": 14
        }
      ]
    },
    {
      "cell_type": "code",
      "source": [
        "# Access row labeled 'A' using .loc (label-based selection)\n",
        "df.loc['A']"
      ],
      "metadata": {
        "id": "2bGcOs00ojmg"
      },
      "execution_count": null,
      "outputs": []
    },
    {
      "cell_type": "code",
      "source": [
        "# Access the 3rd row (index 2) using .iloc (position-based selection)\n",
        "df.iloc[2]"
      ],
      "metadata": {
        "id": "2jg7plv5ojo_"
      },
      "execution_count": null,
      "outputs": []
    },
    {
      "cell_type": "code",
      "source": [
        "# Access a specific cell: row 'B' and column 'Y'\n",
        "df.loc['B','Y']"
      ],
      "metadata": {
        "id": "pBUvy6eDojrg"
      },
      "execution_count": null,
      "outputs": []
    },
    {
      "cell_type": "code",
      "source": [
        "# Access a sub-section: rows ['A', 'B'] and columns ['W', 'Y']\n",
        "df.loc[['A','B'],['W','Y']]"
      ],
      "metadata": {
        "id": "JOCwAv2Sojt-"
      },
      "execution_count": null,
      "outputs": []
    }
  ]
}