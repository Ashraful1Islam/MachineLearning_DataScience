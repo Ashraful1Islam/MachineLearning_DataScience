{
  "nbformat": 4,
  "nbformat_minor": 0,
  "metadata": {
    "colab": {
      "provenance": [],
      "authorship_tag": "ABX9TyP0tnVLv80UZ82YIneikZZP",
      "include_colab_link": true
    },
    "kernelspec": {
      "name": "python3",
      "display_name": "Python 3"
    },
    "language_info": {
      "name": "python"
    }
  },
  "cells": [
    {
      "cell_type": "markdown",
      "metadata": {
        "id": "view-in-github",
        "colab_type": "text"
      },
      "source": [
        "<a href=\"https://colab.research.google.com/github/Ashraful1Islam/MachineLearning_DataScience/blob/main/Numpy_Arrays.ipynb\" target=\"_parent\"><img src=\"https://colab.research.google.com/assets/colab-badge.svg\" alt=\"Open In Colab\"/></a>"
      ]
    },
    {
      "cell_type": "code",
      "execution_count": 5,
      "metadata": {
        "colab": {
          "base_uri": "https://localhost:8080/"
        },
        "id": "zq5WxbMNAv2s",
        "outputId": "f508a5f9-19f3-4a5f-dcfc-a87f661c6dc8"
      },
      "outputs": [
        {
          "output_type": "execute_result",
          "data": {
            "text/plain": [
              "array([[ 1,  2,  3],\n",
              "       [ 5,  6,  7],\n",
              "       [ 8,  9, 10]])"
            ]
          },
          "metadata": {},
          "execution_count": 5
        }
      ],
      "source": [
        "# Convert list into array\n",
        "import numpy as np\n",
        "my_list=[1,2,3,4]\n",
        "np.array(my_list)#Output -> array([1, 2, 3, 4])\n",
        "#if we input nested list\n",
        "my_list1=[[1,2,3],[5,6,7],[8,9,10]]\n",
        "np.array(my_list1) #output 2D array"
      ]
    },
    {
      "cell_type": "code",
      "source": [
        "#we can arrange number by arange function\n",
        "np.arange(0,10)#output ->rray([0, 1, 2, 3, 4, 5, 6, 7, 8, 9])\n",
        "np.arange(0,12,2)#0 theke shuru and 12 porjonto,2 step por por ->rray([ 0,  2,  4,  6,  8, 10])\n"
      ],
      "metadata": {
        "colab": {
          "base_uri": "https://localhost:8080/"
        },
        "id": "XmxpqzhbA_NM",
        "outputId": "e791acfd-a1c0-447d-861e-64b3cee8ae26"
      },
      "execution_count": 7,
      "outputs": [
        {
          "output_type": "execute_result",
          "data": {
            "text/plain": [
              "array([ 0,  2,  4,  6,  8, 10])"
            ]
          },
          "metadata": {},
          "execution_count": 7
        }
      ]
    },
    {
      "cell_type": "code",
      "source": [
        "np.zeros(3)#array([0., 0., 0.])\n",
        "np.zeros((3,3))#2D matrix 3 column 3 rows of 0\n",
        "np.ones(3)#same like zeros\n",
        "np.ones((3,3))# same like zeros"
      ],
      "metadata": {
        "colab": {
          "base_uri": "https://localhost:8080/"
        },
        "id": "LR5Q3nAkA_oe",
        "outputId": "75e3a95b-3a19-4b49-b3a3-7670ad589715"
      },
      "execution_count": 10,
      "outputs": [
        {
          "output_type": "execute_result",
          "data": {
            "text/plain": [
              "array([[1., 1., 1.],\n",
              "       [1., 1., 1.],\n",
              "       [1., 1., 1.]])"
            ]
          },
          "metadata": {},
          "execution_count": 10
        }
      ]
    },
    {
      "cell_type": "code",
      "source": [
        "#identity matrix\n",
        "np.eye(3)"
      ],
      "metadata": {
        "colab": {
          "base_uri": "https://localhost:8080/"
        },
        "id": "9rUL4xRoBADQ",
        "outputId": "98ea12df-3fa4-4fd9-b97b-8d28e161b07d"
      },
      "execution_count": 11,
      "outputs": [
        {
          "output_type": "execute_result",
          "data": {
            "text/plain": [
              "array([[1., 0., 0.],\n",
              "       [0., 1., 0.],\n",
              "       [0., 0., 1.]])"
            ]
          },
          "metadata": {},
          "execution_count": 11
        }
      ]
    },
    {
      "cell_type": "code",
      "source": [
        "#linspace (0,5,10) ,,0 theke 5 porjnto 10 ti element\n",
        "np.linspace(0,5,10)"
      ],
      "metadata": {
        "colab": {
          "base_uri": "https://localhost:8080/"
        },
        "id": "gMUxtGsLBAiN",
        "outputId": "37619c57-c982-4be5-c897-cc6fa715430d"
      },
      "execution_count": 12,
      "outputs": [
        {
          "output_type": "execute_result",
          "data": {
            "text/plain": [
              "array([0.        , 0.55555556, 1.11111111, 1.66666667, 2.22222222,\n",
              "       2.77777778, 3.33333333, 3.88888889, 4.44444444, 5.        ])"
            ]
          },
          "metadata": {},
          "execution_count": 12
        }
      ]
    },
    {
      "cell_type": "code",
      "source": [
        "#Random function\n",
        "np.random.rand(5)#5 ti random number in 1D array,but all are in floating\n",
        "np.random.randn(4)#4 ti random normal distribution element,,mean 0 standard deviation 1\n",
        "np.random.randint(0,10,10)# min 0 max 10 er mddhe 10 ti element"
      ],
      "metadata": {
        "colab": {
          "base_uri": "https://localhost:8080/"
        },
        "id": "QL1gt5CTNoXq",
        "outputId": "6ec2c928-0da7-419c-a786-c8118adae371"
      },
      "execution_count": 15,
      "outputs": [
        {
          "output_type": "execute_result",
          "data": {
            "text/plain": [
              "array([3, 1, 7, 0, 2, 1, 2, 6, 0, 5])"
            ]
          },
          "metadata": {},
          "execution_count": 15
        }
      ]
    },
    {
      "cell_type": "code",
      "source": [
        "#shape related\n",
        "arr=np.random.randint(0,12,9)\n",
        "arr\n",
        "arr.reshape(3,3)# 3X3 a shape kora holo\n",
        "arr.max()#max element\n",
        "arr.min()#min element\n",
        "arr.argmax()#index of max element\n",
        "arr.argmin()#index of min element\n",
        "arr.shape"
      ],
      "metadata": {
        "colab": {
          "base_uri": "https://localhost:8080/"
        },
        "id": "EOarZY0oNpHD",
        "outputId": "e56be1f6-8e98-4562-cdf0-c0d127bc6cec"
      },
      "execution_count": 33,
      "outputs": [
        {
          "output_type": "execute_result",
          "data": {
            "text/plain": [
              "(9,)"
            ]
          },
          "metadata": {},
          "execution_count": 33
        }
      ]
    },
    {
      "cell_type": "code",
      "source": [],
      "metadata": {
        "id": "-r3-pYcQNpgf"
      },
      "execution_count": null,
      "outputs": []
    },
    {
      "cell_type": "code",
      "source": [],
      "metadata": {
        "id": "RIk_nfl2Rgyn"
      },
      "execution_count": 17,
      "outputs": []
    }
  ]
}